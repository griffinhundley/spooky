{
 "cells": [
  {
   "cell_type": "code",
   "execution_count": 14,
   "id": "6cc7b21b-8613-431d-998f-21f12e2a57d9",
   "metadata": {},
   "outputs": [],
   "source": [
    "import face_recognition\n",
    "from PIL import Image\n",
    "import numpy as np\n",
    "\n",
    "import src.camera"
   ]
  },
  {
   "cell_type": "code",
   "execution_count": 2,
   "id": "905aab80-0423-4c08-8354-0369e2473977",
   "metadata": {},
   "outputs": [],
   "source": [
    "frame = src.camera.get_frame()"
   ]
  },
  {
   "cell_type": "code",
   "execution_count": 3,
   "id": "d0437efe-023e-4252-9961-1bb961c5f7b5",
   "metadata": {},
   "outputs": [],
   "source": [
    "image = face_recognition.load_image_file(\"images/test.png\")\n",
    "face_locations = face_recognition.face_locations(image)\n",
    "face_landmarks_list = face_recognition.face_landmarks(image)"
   ]
  },
  {
   "cell_type": "code",
   "execution_count": 4,
   "id": "b5b9fb28-c881-418b-901a-e54a834fcebc",
   "metadata": {
    "collapsed": true,
    "jupyter": {
     "outputs_hidden": true
    },
    "tags": []
   },
   "outputs": [
    {
     "data": {
      "text/plain": [
       "array([[[33, 29, 24],\n",
       "        [33, 29, 23],\n",
       "        [33, 30, 22],\n",
       "        ...,\n",
       "        [66, 56, 46],\n",
       "        [66, 56, 46],\n",
       "        [66, 56, 46]],\n",
       "\n",
       "       [[26, 22, 17],\n",
       "        [26, 22, 16],\n",
       "        [25, 21, 14],\n",
       "        ...,\n",
       "        [65, 56, 46],\n",
       "        [65, 56, 46],\n",
       "        [66, 56, 46]],\n",
       "\n",
       "       [[22, 19, 13],\n",
       "        [22, 19, 13],\n",
       "        [24, 20, 14],\n",
       "        ...,\n",
       "        [65, 56, 46],\n",
       "        [65, 56, 46],\n",
       "        [66, 56, 46]],\n",
       "\n",
       "       ...,\n",
       "\n",
       "       [[26, 23, 15],\n",
       "        [27, 24, 17],\n",
       "        [27, 24, 18],\n",
       "        ...,\n",
       "        [23, 20, 17],\n",
       "        [23, 20, 17],\n",
       "        [25, 21, 18]],\n",
       "\n",
       "       [[27, 24, 18],\n",
       "        [27, 24, 18],\n",
       "        [27, 24, 18],\n",
       "        ...,\n",
       "        [23, 20, 17],\n",
       "        [21, 17, 14],\n",
       "        [21, 17, 14]],\n",
       "\n",
       "       [[27, 23, 18],\n",
       "        [27, 23, 18],\n",
       "        [27, 23, 18],\n",
       "        ...,\n",
       "        [21, 19, 15],\n",
       "        [20, 16, 13],\n",
       "        [20, 16, 13]]], dtype=uint8)"
      ]
     },
     "execution_count": 4,
     "metadata": {},
     "output_type": "execute_result"
    }
   ],
   "source": [
    "image"
   ]
  },
  {
   "cell_type": "code",
   "execution_count": 5,
   "id": "f7655624-2c97-4d84-8232-60f10b0828fa",
   "metadata": {},
   "outputs": [],
   "source": [
    "img = Image.fromarray(image)"
   ]
  },
  {
   "cell_type": "code",
   "execution_count": 32,
   "id": "25e66c79-5af0-4ccd-9052-ab1e22799f51",
   "metadata": {},
   "outputs": [],
   "source": [
    "top, right, bottom, left = face_locations[0]\n",
    "area = img.crop((left,top,right,bottom))"
   ]
  },
  {
   "cell_type": "code",
   "execution_count": 8,
   "id": "1843ed2a-38e8-41fa-af5b-f0c7231722b4",
   "metadata": {},
   "outputs": [
    {
     "data": {
      "text/plain": [
       "(170, 883, 491, 562)"
      ]
     },
     "execution_count": 8,
     "metadata": {},
     "output_type": "execute_result"
    }
   ],
   "source": [
    "box"
   ]
  },
  {
   "cell_type": "code",
   "execution_count": 33,
   "id": "99f938a5-d61b-4570-bc95-f1b9b86dee6c",
   "metadata": {},
   "outputs": [],
   "source": [
    "area = img.crop((left,top,right,bottom))\n",
    "area.show()"
   ]
  },
  {
   "cell_type": "code",
   "execution_count": null,
   "id": "46980f5a-ae14-4e1b-a34c-151e291c07c0",
   "metadata": {},
   "outputs": [],
   "source": [
    "# numpy\n",
    "# opencv\n",
    "# opencv-contrib-python\n",
    "# pillow\n",
    "# keras"
   ]
  },
  {
   "cell_type": "code",
   "execution_count": null,
   "id": "36f5adc5-256b-4273-9755-c3f36c92c563",
   "metadata": {},
   "outputs": [],
   "source": [
    "# miniconda\n",
    "# conda install -c conda-forge mamba"
   ]
  }
 ],
 "metadata": {
  "kernelspec": {
   "display_name": "Python 3 (ipykernel)",
   "language": "python",
   "name": "python3"
  },
  "language_info": {
   "codemirror_mode": {
    "name": "ipython",
    "version": 3
   },
   "file_extension": ".py",
   "mimetype": "text/x-python",
   "name": "python",
   "nbconvert_exporter": "python",
   "pygments_lexer": "ipython3",
   "version": "3.9.7"
  }
 },
 "nbformat": 4,
 "nbformat_minor": 5
}
